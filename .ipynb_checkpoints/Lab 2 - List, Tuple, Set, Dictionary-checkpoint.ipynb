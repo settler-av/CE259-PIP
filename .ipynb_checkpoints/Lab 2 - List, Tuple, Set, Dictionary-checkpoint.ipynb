{
 "cells": [
  {
   "cell_type": "markdown",
   "metadata": {},
   "source": [
    "# PRACTICAL-2: Introduction to Dictionary, Tuple, Set\n",
    "By 20CE155 ADNAN VAHORA, CE-2(C2)"
   ]
  },
  {
   "cell_type": "markdown",
   "metadata": {},
   "source": [
    "## 1. Dictionary\n",
    "Dictionaries are used to store data values in key:value pairs.\n",
    "A dictionary is a collection which is ordered*, changeable and do not allow duplicates.\n",
    "_(As of Python version 3.7, dictionaries are ordered. In Python 3.6 and earlier, dictionaries are unordered.)_"
   ]
  },
  {
   "cell_type": "markdown",
   "metadata": {},
   "source": [
    "### Problem 1:\n",
    "<p> Write a Python script to check whether a given key already exists in a dictionary."
   ]
  },
  {
   "cell_type": "code",
   "execution_count": 1,
   "metadata": {},
   "outputs": [
    {
     "name": "stdout",
     "output_type": "stream",
     "text": [
      "Enter a key: key3\n",
      "key exists\n"
     ]
    }
   ],
   "source": [
    "#create test dictionary\n",
    "test_dict = {'key1': 1, 'key2': 2, 'key3': 3}\n",
    "#check if key inserted by user exists or not\n",
    "print(\"key exists\") if test_dict.get(input('Enter a key: ')) else print(\"key does not exist\")"
   ]
  },
  {
   "cell_type": "markdown",
   "metadata": {},
   "source": [
    "### Problem 2:\n",
    "Write a Python script to merge two Python dictionaries."
   ]
  },
  {
   "cell_type": "code",
   "execution_count": 2,
   "metadata": {
    "pycharm": {
     "name": "#%%\n"
    }
   },
   "outputs": [
    {
     "name": "stdout",
     "output_type": "stream",
     "text": [
      "Merging two dictionaries:\n",
      "Dictionary 3:  {'a': 100, 'b': 200, 'x': 300, 'y': 200}\n",
      "Dictionary 4:  {'a': 100, 'b': 200, 'x': 300, 'y': 200}\n"
     ]
    }
   ],
   "source": [
    "dict1 = {'a': 100, 'b': 200}\n",
    "dict2 = {'x': 300, 'y': 200}\n",
    "#METHOD 1\n",
    "# ** implies that an argument is a dictionary.\n",
    "print(\"Merging two dictionaries:\")\n",
    "dict3 = {**dict1, **dict2}\n",
    "print(\"Dictionary 3: \", dict3)\n",
    "#METHOD 2\n",
    "# Using | in Python 3.9\n",
    "dict4 = dict1 | dict2\n",
    "print(\"Dictionary 4: \", dict4)"
   ]
  },
  {
   "cell_type": "markdown",
   "metadata": {},
   "source": [
    "### Problem 3:\n",
    "Write a Python program to sum all the items in a dictionary."
   ]
  },
  {
   "cell_type": "code",
   "execution_count": 3,
   "metadata": {
    "pycharm": {
     "name": "#%%\n"
    }
   },
   "outputs": [
    {
     "name": "stdout",
     "output_type": "stream",
     "text": [
      "600\n"
     ]
    }
   ],
   "source": [
    "dict = {'a': 100, 'b': 200, 'c': 300}\n",
    "#dict.values() returns a list of values\n",
    "#sum() returns the sum of all the values in the list\n",
    "print(sum(dict.values()))"
   ]
  },
  {
   "cell_type": "markdown",
   "metadata": {},
   "source": [
    "### Problem 4:\n",
    "Write a Python script to add a key to a dictionary.\n",
    "\n",
    "    Sample Dictionary : {0: 10, 1: 20}\n",
    "    Expected Result : {0: 10, 1: 20, 2: 30}"
   ]
  },
  {
   "cell_type": "code",
   "execution_count": null,
   "metadata": {
    "pycharm": {
     "name": "#%%\n"
    }
   },
   "outputs": [],
   "source": [
    "sample = {0: 10, 1: 20}\n",
    "#adding a new key to the dictionary\n",
    "sample[int(input(\"Enter a key: \"))] = int(input(\"Enter a value: \"))\n",
    "print(sample)"
   ]
  },
  {
   "cell_type": "markdown",
   "metadata": {},
   "source": [
    "### Problem 5:\n",
    "\n",
    "Write a Python script to concatenate the following dictionaries to create a new one.\n",
    "\n",
    "    Sample Dictionary : dic1={1:10, 2:20} dic2={3:30, 4:40} dic3={5:50,6:60}\n",
    "    Expected Result : {1: 10, 2: 20, 3: 30, 4: 40, 5: 50, 6: 60}"
   ]
  },
  {
   "cell_type": "code",
   "execution_count": null,
   "metadata": {
    "pycharm": {
     "name": "#%%\n"
    }
   },
   "outputs": [],
   "source": [
    "dic1={1:10, 2:20}\n",
    "dic2={3:30, 4:40}\n",
    "dic3={5:50,6:60}\n",
    "#concatenating the dictionaries (using feature of python 3.9)\n",
    "dict4 = dic1 | dic2 | dic3\n",
    "print(dict4)"
   ]
  },
  {
   "cell_type": "markdown",
   "metadata": {},
   "source": [
    "## 2. Tuple"
   ]
  },
  {
   "cell_type": "markdown",
   "metadata": {},
   "source": [
    "### Problem 1:\n",
    "Write a Python program to create a tuple with different data types."
   ]
  },
  {
   "cell_type": "code",
   "execution_count": 6,
   "metadata": {
    "pycharm": {
     "name": "#%%\n"
    }
   },
   "outputs": [
    {
     "name": "stdout",
     "output_type": "stream",
     "text": [
      "type of element in int_tuples:  <class 'int'>\n",
      "type of element in float_tuples:  <class 'float'>\n",
      "type of element in string_tuples:  <class 'str'>\n"
     ]
    }
   ],
   "source": [
    "int_tuples = (1, 2, 3, 4, 5)\n",
    "print(\"type of element in int_tuples: \", type(int_tuples[1]))\n",
    "float_tuples = (1.1, 2.2, 3.3, 4.4, 5.5)\n",
    "print(\"type of element in float_tuples: \", type(float_tuples[1]))\n",
    "string_tuples = (\"a\", \"b\", \"c\", \"d\", \"e\")\n",
    "print(\"type of element in string_tuples: \", type(string_tuples[1]))"
   ]
  },
  {
   "cell_type": "markdown",
   "metadata": {},
   "source": [
    "### Problem 2:\n",
    "Write a Python program to create a tuple with numbers and print one item."
   ]
  },
  {
   "cell_type": "code",
   "execution_count": 10,
   "metadata": {
    "pycharm": {
     "name": "#%%\n"
    }
   },
   "outputs": [
    {
     "name": "stdout",
     "output_type": "stream",
     "text": [
      "9\n"
     ]
    }
   ],
   "source": [
    "from random import randint\n",
    "\n",
    "my_tuple = (1,2,3,4,5,6,7,8,9,10)\n",
    "#get a random number from the tuple\n",
    "print(my_tuple[randint(0, len(my_tuple)-1)])\n",
    "#output is subjected to change every time the program is executed"
   ]
  },
  {
   "cell_type": "markdown",
   "metadata": {},
   "source": [
    "### Problem 3:\n",
    "Write a Python program to add an item in a tuple."
   ]
  },
  {
   "cell_type": "code",
   "execution_count": 11,
   "metadata": {
    "pycharm": {
     "name": "#%%\n"
    }
   },
   "outputs": [
    {
     "name": "stdout",
     "output_type": "stream",
     "text": [
      "Original tuple: (1, 2, 3, 4, 5)\n",
      "after updating: (1, 2, 3, 4, 5, 2)\n"
     ]
    }
   ],
   "source": [
    "first_tuple = (1, 2, 3, 4, 5)\n",
    "print(\"Original tuple: \" + str(first_tuple))\n",
    "#adding item in tuple: since tuple are immutable, we have to create a new tuple that contains desired item and first tuple\n",
    "second_tuple = first_tuple + (int(input(\"Enter a number to add in tuple: \")),)\n",
    "print(\"after updating: \" + str(second_tuple))"
   ]
  },
  {
   "cell_type": "markdown",
   "metadata": {},
   "source": [
    "### Problem 4:\n",
    "Write a Python program to convert a tuple to a string."
   ]
  },
  {
   "cell_type": "code",
   "execution_count": 14,
   "metadata": {
    "pycharm": {
     "name": "#%%\n"
    }
   },
   "outputs": [
    {
     "name": "stdout",
     "output_type": "stream",
     "text": [
      "Type of string tuple is of type <class 'str'>\n",
      "Tuple: (1, 4, 27, 256, 3125, 46656, 823543, 16777216, 387420489, 10000000000)\n"
     ]
    }
   ],
   "source": [
    "#create random tuple\n",
    "my_tuple = tuple(i**i for i in range(1,11))\n",
    "#convert tuple to string\n",
    "string_tuple = str(my_tuple)\n",
    "print(\"Type of string tuple is of type \" + str(type(string_tuple)))\n",
    "print(\"Tuple: \" + str(my_tuple))"
   ]
  },
  {
   "cell_type": "markdown",
   "metadata": {},
   "source": [
    "### Problem 5:\n",
    "Write a Python program to find the length of a tuple."
   ]
  },
  {
   "cell_type": "code",
   "execution_count": 22,
   "metadata": {
    "pycharm": {
     "name": "#%%\n"
    }
   },
   "outputs": [
    {
     "name": "stdout",
     "output_type": "stream",
     "text": [
      "Tuple: (1, 2, 4, 1, 45, 1, 3, 14, 1, 46, 1, 7, 1, 1, 1, 515, 1, 5, 1, 1, 3, 1, 11, 2, 2, 1, 1, 2, 2, 1, 27, 1, 1, 31, 1, 29, 14, 67, 20, 11, 1, 1, 4, 2, 1, 2, 2, 1, 2, 2)\n",
      "Length of tuple: 50\n"
     ]
    }
   ],
   "source": [
    "#create tuple with random numbers\n",
    "rand_tuple = tuple(i//(i - randint(0, i-1)) for i in range(500,550))\n",
    "print(\"Tuple: \" + str(rand_tuple))\n",
    "print(\"Length of tuple: \" + str(len(rand_tuple)))"
   ]
  },
  {
   "cell_type": "markdown",
   "metadata": {},
   "source": [
    "## 3. Set\n",
    "Sets are used to store data values in unordered collection.\n",
    "A set is a collection which is **unordered** and **unindexed**. In Python sets are written with curly brackets."
   ]
  },
  {
   "cell_type": "markdown",
   "metadata": {},
   "source": [
    "### Problem 1:\n",
    "Write a Python program to add member(s) in a set and clear a set"
   ]
  },
  {
   "cell_type": "code",
   "execution_count": null,
   "metadata": {
    "pycharm": {
     "name": "#%%\n"
    }
   },
   "outputs": [],
   "source": [
    "set1 = {1,2,3,4,5}\n",
    "print(\"The original set: \" + str(set1))\n",
    "#use add function to add a new member in the set\n",
    "set1.add(6)\n",
    "set1.add(7)\n",
    "set1.add(3) #set will not allow duplicates\n",
    "print(\"after adding 6, 7, 3 in set1:\",set1)\n",
    "#use remove function to remove a member in the set\n",
    "set1.remove(2)\n",
    "print(\"after removing 2 from set1:\",set1)\n",
    "#use clear function to clear the set\n",
    "set1.clear()\n",
    "print(\"After clearing the set \",set1)"
   ]
  },
  {
   "cell_type": "markdown",
   "metadata": {},
   "source": [
    "### Problem 2:\n",
    "Write a Python program to remove an item from a set if it is present in the set."
   ]
  },
  {
   "cell_type": "code",
   "execution_count": null,
   "metadata": {
    "pycharm": {
     "name": "#%%\n"
    }
   },
   "outputs": [],
   "source": [
    "from random import randint\n",
    "set2 = set(i%randint(1,11) for i in range(100,110))\n",
    "# print(set2)\n",
    "my_number = int(input(\"Enter any number between 1 to 10\"))\n",
    "my_number %= 11\n",
    "if my_number in set2:\n",
    "    set2.remove(my_number)\n",
    "    print(\"The number is removed from the set\")\n",
    "else:\n",
    "    print(\"The number is not in the set\")\n",
    "    print(\"The set is: \",set2)"
   ]
  },
  {
   "cell_type": "markdown",
   "metadata": {},
   "source": [
    "### Problem 3:\n",
    "Write a Python program to create an intersection, Union, difference of sets."
   ]
  },
  {
   "cell_type": "code",
   "execution_count": null,
   "metadata": {
    "pycharm": {
     "name": "#%%\n"
    }
   },
   "outputs": [],
   "source": [
    "#create a random set\n",
    "A = {4,5,7,8,9,10}\n",
    "B = {1,3,5,6,8,9}\n",
    "#intersenction of A and B\n",
    "print(\"Intersection of A and B: \",A.intersection(B))\n",
    "#union of A and B\n",
    "print(\"Union of A and B: \",A.union(B))\n",
    "#difference of A and B\n",
    "print(\"Difference of A and B: \",A.difference(B))\n",
    "#difference of B and A\n",
    "print(\"Difference of B and A: \",B.difference(A))"
   ]
  },
  {
   "cell_type": "markdown",
   "metadata": {},
   "source": [
    "### Problem 4:\n",
    "Write a Python program to find maximum and the minimum value in a set."
   ]
  },
  {
   "cell_type": "code",
   "execution_count": null,
   "metadata": {
    "pycharm": {
     "name": "#%%\n"
    }
   },
   "outputs": [],
   "source": [
    "set4 = {1,2,5,4,3,10,11}\n",
    "print(\"The maximum value in the set is: \",max(set4))\n",
    "print(\"The minimum value in the set is: \",min(set4))"
   ]
  },
  {
   "cell_type": "markdown",
   "metadata": {},
   "source": [
    "### Problem 5:\n",
    "Write a Python program to find the most common elements and their counts from list, tuple, dictionary."
   ]
  },
  {
   "cell_type": "code",
   "execution_count": null,
   "metadata": {
    "pycharm": {
     "name": "#%%\n"
    }
   },
   "outputs": [],
   "source": [
    "my_list = list(i%randint(1,50) for i in range(1000,1100) )\n",
    "print(\"The list is: \",my_list)\n",
    "#find the most common elements in the list with frequency\n",
    "print(\"The most common elements in the list are: \",max(set(my_list), key=my_list.count))"
   ]
  }
 ],
 "metadata": {
  "kernelspec": {
   "display_name": "Python 3 (ipykernel)",
   "language": "python",
   "name": "python3"
  },
  "language_info": {
   "codemirror_mode": {
    "name": "ipython",
    "version": 3
   },
   "file_extension": ".py",
   "mimetype": "text/x-python",
   "name": "python",
   "nbconvert_exporter": "python",
   "pygments_lexer": "ipython3",
   "version": "3.9.7"
  }
 },
 "nbformat": 4,
 "nbformat_minor": 1
}

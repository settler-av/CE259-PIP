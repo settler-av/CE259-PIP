{
 "cells": [
  {
   "cell_type": "markdown",
   "metadata": {
    "pycharm": {
     "name": "#%% md\n"
    }
   },
   "source": [
    "# Python Final Assignment \n",
    "-----\n",
    "Link - https://github.com/settler-av/CE259-PIP"
   ]
  },
  {
   "cell_type": "markdown",
   "metadata": {
    "pycharm": {
     "name": "#%% md\n"
    }
   },
   "source": [
    "# 1. Descending frequency\n",
    "----"
   ]
  },
  {
   "cell_type": "code",
   "execution_count": 4,
   "metadata": {
    "pycharm": {
     "name": "#%%\n"
    }
   },
   "outputs": [
    {
     "name": "stdout",
     "output_type": "stream",
     "text": [
      "Enter the stringadnanvahora\n",
      "a 4\n",
      "n 2\n",
      "d 1\n",
      "v 1\n",
      "h 1\n",
      "o 1\n",
      "r 1\n"
     ]
    }
   ],
   "source": [
    "test_str = input(\"Enter the string\")\n",
    "freq = dict()\n",
    "for i in test_str:\n",
    "    if i in freq:\n",
    "        freq[i] = freq[i] + 1\n",
    "    else:\n",
    "        freq[i] = 1\n",
    "for key in sorted(freq, key=freq.get, reverse=True):\n",
    "    print(\"{} {}\".format(str(key),str(freq[key])))"
   ]
  },
  {
   "cell_type": "markdown",
   "metadata": {
    "pycharm": {
     "name": "#%% md\n"
    }
   },
   "source": [
    "# 2. Find Min, Max, mean, SD, Variance\n",
    "-----"
   ]
  },
  {
   "cell_type": "code",
   "execution_count": 5,
   "metadata": {
    "pycharm": {
     "name": "#%%\n"
    }
   },
   "outputs": [
    {
     "name": "stdout",
     "output_type": "stream",
     "text": [
      "Min: 4\n",
      "Max: 80\n",
      "Mean: 37.125\n",
      "SD: 27.25086007817001\n",
      "Variance: 742.609375\n"
     ]
    }
   ],
   "source": [
    "import numpy as np\n",
    "string = \"10 50 80 70 49 23 11 4\"\n",
    "arr = string.split(\" \")\n",
    "# concert list int\n",
    "arr = np.array(arr, dtype=int)\n",
    "print(\"Min: {}\".format(np.min(arr)))\n",
    "print(\"Max: {}\".format(np.max(arr)))\n",
    "print(\"Mean: {}\".format(np.mean(arr)))\n",
    "print(\"SD: {}\".format(np.std(arr)))\n",
    "print(\"Variance: {}\".format(np.var(arr)))"
   ]
  },
  {
   "cell_type": "markdown",
   "metadata": {
    "pycharm": {
     "name": "#%% md\n"
    }
   },
   "source": [
    "### 3. You are given an integer array height of length n there are n vertical lines drawn such that the two endpoints of the line are (i,0) and (i, height[i]). Find two lines, which together with x-axis forms a container, such that the container contains the most water.\n",
    "Return the maximum amount of water that can be contained.\n",
    "-------"
   ]
  },
  {
   "cell_type": "code",
   "execution_count": 6,
   "metadata": {
    "pycharm": {
     "name": "#%%\n"
    }
   },
   "outputs": [
    {
     "name": "stdout",
     "output_type": "stream",
     "text": [
      "1\n",
      "5\n",
      "1 2 5 4 4\n",
      "8\n"
     ]
    }
   ],
   "source": [
    "def maxArea(A,le):\n",
    "    #code here\n",
    "    Pairs = []\n",
    "    for i in range(le):\n",
    "        for j in range(le):\n",
    "            width = (j - i)\n",
    "            pair = [A[i], A[j]]\n",
    "            height = min(pair)\n",
    "            Pairs.append(width*height)\n",
    "    return max(Pairs)\n",
    "\n",
    "for _ in range(0,int(input())):\n",
    "\n",
    "    n = int(input())\n",
    "    l = list(map(int,input().split()))\n",
    "\n",
    "    print(maxArea(l,n))"
   ]
  },
  {
   "cell_type": "markdown",
   "metadata": {
    "pycharm": {
     "name": "#%% md\n"
    }
   },
   "source": [
    "## 4. Given list of integers, Write a program to print the count of all possible unique combination of nubers whose sum is equal to K\n",
    "\n",
    "-----\n"
   ]
  },
  {
   "cell_type": "code",
   "execution_count": 3,
   "metadata": {
    "pycharm": {
     "name": "#%%\n"
    }
   },
   "outputs": [
    {
     "name": "stdout",
     "output_type": "stream",
     "text": [
      "{1,  1,  6}\n",
      "{1,  2,  5}\n",
      "{1,  7}\n",
      "{2,  6}\n"
     ]
    }
   ],
   "source": [
    "# Python 3 implementation of the approach\n",
    "\n",
    "# Function to find all unique combination of\n",
    "# given elements such that their sum is K\n",
    "def unique_combination(l, sum, K, local, A):\n",
    "\t# If a unique combination is found\n",
    "\tif (sum == K):\n",
    "\t\tprint(\"{\", end=\"\")\n",
    "\t\tfor i in range(len(local)):\n",
    "\t\t\tif (i != 0):\n",
    "\t\t\t\tprint(\" \", end=\"\")\n",
    "\t\t\tprint(local[i], end=\"\")\n",
    "\t\t\tif (i != len(local) - 1):\n",
    "\t\t\t\tprint(\", \", end=\"\")\n",
    "\t\tprint(\"}\")\n",
    "\t\treturn\n",
    "\t# For all other combinations\n",
    "\tfor i in range(l, len(A), 1):\n",
    "\t\t# Check if the sum exceeds K\n",
    "\t\tif (sum + A[i] > K):\n",
    "\t\t\tcontinue\n",
    "\t\t# Check if it is repeated or not\n",
    "\t\tif (i > l and\n",
    "\t\t\t\tA[i] == A[i - 1]):\n",
    "\t\t\tcontinue\n",
    "\t\t# Take the element into the combination\n",
    "\t\tlocal.append(A[i])\n",
    "\t\t# Recursive call\n",
    "\t\tunique_combination(i + 1, sum + A[i],\n",
    "\t\t\t\t\t\tK, local, A)\n",
    "\t\t# Remove element from the combination\n",
    "\t\tlocal.remove(local[len(local) - 1])\n",
    "\n",
    "# Function to find all combination\n",
    "# of the given elements\n",
    "def Combination(A, K):\n",
    "\t# Sort the given elements\n",
    "\tA.sort(reverse=False)\n",
    "\tlocal = []\n",
    "\tunique_combination(0, 0, K, local, A)\n",
    "\n",
    "if __name__ == '__main__':\n",
    "\tA = [10, 1, 2, 7, 6, 1, 5]\n",
    "\tK = 8\n",
    "\tCombination(A, K)"
   ]
  },
  {
   "cell_type": "markdown",
   "metadata": {
    "pycharm": {
     "name": "#%% md\n"
    }
   },
   "source": [
    "# 5. Explaing about differnt types of exeption in python"
   ]
  },
  {
   "cell_type": "markdown",
   "metadata": {
    "pycharm": {
     "name": "#%% md\n"
    }
   },
   "source": [
    "### Exception hierarchy\n",
    "```\n",
    "Exception\n",
    "├── ArithmeticError\n",
    "│   ├── FloatingPointError\n",
    "│   ├── OverflowError\n",
    "│   └── ZeroDivisionError\n",
    "├── AssertionError\n",
    "├── AttributeError\n",
    "├── BufferError\n",
    "├── EOFError\n",
    "├── ImportError\n",
    "│   └── ModuleNotFoundError\n",
    "├── LookupError\n",
    "│   ├── IndexError\n",
    "│   └── KeyError\n",
    "├── MemoryError\n",
    "├── NameError\n",
    "│   └── UnboundLocalError\n",
    "├── OSError\n",
    "│   ├── BlockingIOError\n",
    "│   ├── ChildProcessError\n",
    "│   ├── ConnectionError\n",
    "│   │   ├── BrokenPipeError\n",
    "│   │   ├── ConnectionAbortedError\n",
    "│   │   ├── ConnectionRefusedError\n",
    "│   │   └── ConnectionResetError\n",
    "│   ├── FileExistsError\n",
    "│   ├── FileNotFoundError\n",
    "│   ├── InterruptedError\n",
    "│   ├── IsADirectoryError\n",
    "│   ├── NotADirectoryError\n",
    "│   ├── PermissionError\n",
    "│   ├── ProcessLookupError\n",
    "│   └── TimeoutError\n",
    "├── ReferenceError\n",
    "├── RuntimeError\n",
    "│   ├── NotImplementedError\n",
    "│   └── RecursionError\n",
    "├── StopAsyncIteration\n",
    "├── StopIteration\n",
    "├── SyntaxError\n",
    "│   └── IndentationError\n",
    "│       └── TabError\n",
    "├── SystemError\n",
    "├── TypeError\n",
    "├── ValueError\n",
    "│   └── UnicodeError\n",
    "│       ├── UnicodeDecodeError\n",
    "│       ├── UnicodeEncodeError\n",
    "│       └── UnicodeTranslateError\n",
    "└── Warning\n",
    "    ├── BytesWarning\n",
    "    ├── DeprecationWarning\n",
    "    ├── FutureWarning\n",
    "    ├── ImportWarning\n",
    "    ├── PendingDeprecationWarning\n",
    "    ├── ResourceWarning\n",
    "    ├── RuntimeWarning\n",
    "    ├── SyntaxWarning\n",
    "    ├── UnicodeWarning\n",
    "    └── UserWarning\n",
    "\n",
    "```"
   ]
  },
  {
   "cell_type": "code",
   "execution_count": 7,
   "metadata": {
    "pycharm": {
     "name": "#%%\n"
    }
   },
   "outputs": [
    {
     "name": "stdout",
     "output_type": "stream",
     "text": [
      "Enter a number: 2\n",
      "Your number doubled is: 4\n",
      "Hello World!\n"
     ]
    }
   ],
   "source": [
    "\"\"\"\n",
    "1. Exceptions are classes and they can be used just like all other classes.\n",
    "2. ValueError and TypeError are some of the most commonly used exceptions.\n",
    "3. The try and except keywords can be used for attempting to do something and then doing something else if we get an error. This is known as catching exceptions.\n",
    "4. It's possible to raise exceptions with the raise keyword. This is also known as throwing exceptions.\n",
    "5. Raise exceptions if they are meant to be displayed for programmers and use sys.stderr and sys.exit otherwise.\n",
    "\"\"\"\n",
    "while True:\n",
    "    try:\n",
    "        number = int(input(\"Enter a number: \"))\n",
    "        break\n",
    "    except ValueError:\n",
    "        print(\"That's not a valid number! Try again.\")\n",
    "\n",
    "print(\"Your number doubled is:\", number * 2)\n",
    "\n",
    "\n",
    "\n",
    "\n",
    "\n",
    "# These are here so you can change them to customize the program\n",
    "# easily.\n",
    "default_greeting = \"Hello World!\"\n",
    "filename = \"greeting.txt\"\n",
    "\n",
    "\n",
    "import sys\n",
    "\n",
    "def askyesno(question):\n",
    "    while True:\n",
    "        answer = input(question + ' (y or n) ')\n",
    "        if answer == 'Y' or answer == 'y':\n",
    "            return True\n",
    "        if answer == 'N' or answer == 'n':\n",
    "            return False\n",
    "\n",
    "def greet():\n",
    "    with open(filename, 'r') as f:\n",
    "        for line in f:\n",
    "            print(line.rstrip('\\n'))\n",
    "\n",
    "try:\n",
    "    greet()\n",
    "except OSError:\n",
    "    print(\"Cannot read '%s'!\" % filename, file=sys.stderr)\n",
    "    if askyesno(\"Would you like to create a default greeting file?\"):\n",
    "        with open(filename, 'w') as f:\n",
    "            print(default_greeting, file=f)\n",
    "        greet()"
   ]
  },
  {
   "cell_type": "markdown",
   "metadata": {
    "pycharm": {
     "name": "#%% md\n"
    }
   },
   "source": [
    "# 6. Complete Django tutorial (Part 1 to 7) from the official website  \n",
    "https://www.djangoproject.com/\n",
    "\n",
    "-----"
   ]
  },
  {
   "cell_type": "markdown",
   "metadata": {
    "pycharm": {
     "name": "#%% md\n"
    }
   },
   "source": [
    "Link of the work: https://github.com/settler-av/CE259-PIP/tree/master/Final%20Assignment/"
   ]
  },
  {
   "cell_type": "markdown",
   "metadata": {
    "pycharm": {
     "name": "#%% md\n"
    }
   },
   "source": [
    "# 7. Write a Django code to send an email with attachment\n",
    "\n",
    "-----"
   ]
  },
  {
   "cell_type": "markdown",
   "metadata": {
    "pycharm": {
     "name": "#%% md\n"
    }
   },
   "source": [
    "Link of the work: https://github.com/settler-av/CE259-PIP/tree/master/Final%20Assignment/Email-with-django"
   ]
  },
  {
   "cell_type": "markdown",
   "metadata": {
    "pycharm": {
     "name": "#%% md\n"
    }
   },
   "source": [
    "# 8. Program to demonstrate Overriding of base Class method in derived class\n",
    "\n",
    "-----"
   ]
  },
  {
   "cell_type": "code",
   "execution_count": null,
   "metadata": {
    "pycharm": {
     "name": "#%%\n"
    }
   },
   "outputs": [],
   "source": [
    "\n",
    "# Python program to demonstrate\n",
    "# method overriding\n",
    "\n",
    "\n",
    "# Defining parent class\n",
    "class Parent():\n",
    "\n",
    "    # Constructor\n",
    "    def __init__(self):\n",
    "        self.value = \"Inside Parent\"\n",
    "\n",
    "    # Parent's show method\n",
    "    def show(self):\n",
    "        print(self.value)\n",
    "\n",
    "# Defining child class\n",
    "class Child(Parent):\n",
    "\n",
    "    # Constructor\n",
    "    def __init__(self):\n",
    "        self.value = \"Inside Child\"\n",
    "\n",
    "    # Child's show method\n",
    "    def show(self):\n",
    "        print(self.value)\n",
    "\n",
    "\n",
    "# Driver's code\n",
    "obj1 = Parent()\n",
    "obj2 = Child()\n",
    "\n",
    "obj1.show()\n",
    "obj2.show()"
   ]
  },
  {
   "cell_type": "markdown",
   "metadata": {
    "pycharm": {
     "name": "#%% md\n"
    }
   },
   "source": [
    "## 9. Write pythonic code to create a function named move_rectangle that takes an object of Reactangle and two numbers called dx and dy. It should move the rectangle by the given amount.\n",
    "\n",
    "-----"
   ]
  },
  {
   "cell_type": "code",
   "execution_count": 7,
   "metadata": {
    "pycharm": {
     "name": "#%%\n"
    }
   },
   "outputs": [
    {
     "name": "stdout",
     "output_type": "stream",
     "text": [
      "Inside Parent\n",
      "Inside Child\n"
     ]
    }
   ],
   "source": [
    "\n",
    "# Python program to demonstrate\n",
    "# method overriding\n",
    "\n",
    "\n",
    "# Defining parent class\n",
    "class Parent():\n",
    "\n",
    "    # Constructor\n",
    "    def __init__(self):\n",
    "        self.value = \"Inside Parent\"\n",
    "\n",
    "    # Parent's show method\n",
    "    def show(self):\n",
    "        print(self.value)\n",
    "\n",
    "# Defining child class\n",
    "class Child(Parent):\n",
    "\n",
    "    # Constructor\n",
    "    def __init__(self):\n",
    "        self.value = \"Inside Child\"\n",
    "\n",
    "    # Child's show method\n",
    "    def show(self):\n",
    "        print(self.value)\n",
    "\n",
    "\n",
    "# Driver's code\n",
    "obj1 = Parent()\n",
    "obj2 = Child()\n",
    "\n",
    "obj1.show()\n",
    "obj2.show()"
   ]
  },
  {
   "cell_type": "markdown",
   "metadata": {
    "pycharm": {
     "name": "#%% md\n"
    }
   },
   "source": [
    "## 9. Write pythonic code to create a function named move_rectangle that takes an object of Reactangle and two numbers called dx and dy. It should move the rectangle by the given amount.\n",
    "\n",
    "-----"
   ]
  },
  {
   "cell_type": "code",
   "execution_count": 18,
   "metadata": {
    "pycharm": {
     "name": "#%%\n"
    }
   },
   "outputs": [
    {
     "name": "stdout",
     "output_type": "stream",
     "text": [
      "0 0\n",
      "5 10\n"
     ]
    }
   ],
   "source": [
    "class Rectangle:\n",
    "    def __init__(self, width, height):\n",
    "        self.width = width\n",
    "        self.height = height\n",
    "        self.corner = {'x': 0, 'y': 0}\n",
    "    def display(self):\n",
    "        print(self.corner['x'], self.corner['y'])\n",
    "\n",
    "    def move_rectangle(self, dx, dy):\n",
    "        self.corner['x'] += dx\n",
    "        self.corner['y'] += dy\n",
    "\n",
    "\n",
    "\n",
    "r1 = Rectangle(10, 20)\n",
    "r1.display()\n",
    "r1.move_rectangle(5, 10)\n",
    "r1.display()"
   ]
  }
 ],
 "metadata": {
  "kernelspec": {
   "display_name": "Python 3 (ipykernel)",
   "language": "python",
   "name": "python3"
  },
  "language_info": {
   "codemirror_mode": {
    "name": "ipython",
    "version": 3
   },
   "file_extension": ".py",
   "mimetype": "text/x-python",
   "name": "python",
   "nbconvert_exporter": "python",
   "pygments_lexer": "ipython3",
   "version": "3.9.7"
  }
 },
 "nbformat": 4,
 "nbformat_minor": 1
}

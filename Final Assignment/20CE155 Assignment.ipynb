{
 "cells": [
  {
   "cell_type": "markdown",
   "source": [
    "# Descending frequency"
   ],
   "metadata": {
    "collapsed": false
   }
  },
  {
   "cell_type": "code",
   "execution_count": 1,
   "metadata": {
    "collapsed": true
   },
   "outputs": [
    {
     "name": "stdout",
     "output_type": "stream",
     "text": [
      "b 3\n",
      "a 2\n",
      "c 2\n",
      "d 1\n",
      "e 1\n"
     ]
    }
   ],
   "source": [
    "test_str = input(\"Enter the string\")\n",
    "freq = dict()\n",
    "for i in test_str:\n",
    "    if i in freq:\n",
    "        freq[i] = freq[i] + 1\n",
    "    else:\n",
    "        freq[i] = 1\n",
    "for key in sorted(freq, key=freq.get, reverse=True):\n",
    "    print(\"{} {}\".format(str(key),str(freq[key])))"
   ]
  },
  {
   "cell_type": "markdown",
   "source": [
    "# Find Min, Max, mean, SD, Variane"
   ],
   "metadata": {
    "collapsed": false
   }
  },
  {
   "cell_type": "code",
   "execution_count": 1,
   "outputs": [
    {
     "name": "stdout",
     "output_type": "stream",
     "text": [
      "Min: 4\n",
      "Max: 80\n",
      "Mean: 37.125\n",
      "SD: 27.25086007817001\n",
      "Variance: 742.609375\n"
     ]
    }
   ],
   "source": [
    "import numpy as np\n",
    "string = \"10 50 80 70 49 23 11 4\"\n",
    "arr = string.split(\" \")\n",
    "# concert list int\n",
    "arr = np.array(arr, dtype=int)\n",
    "print(\"Min: {}\".format(np.min(arr)))\n",
    "print(\"Max: {}\".format(np.max(arr)))\n",
    "print(\"Mean: {}\".format(np.mean(arr)))\n",
    "print(\"SD: {}\".format(np.std(arr)))\n",
    "print(\"Variance: {}\".format(np.var(arr)))"
   ],
   "metadata": {
    "collapsed": false,
    "pycharm": {
     "name": "#%%\n"
    }
   }
  },
  {
   "cell_type": "markdown",
   "source": [
    "You are given an integer array height of length n there are n vertical lines drawn such that the two endpoints of the line are (i,0) and (i, height[i]).\n",
    "Find two lines, which together with x-axis forms a container, such that the container contains the most water.\n",
    "Return the maximum amount of water that can be contained."
   ],
   "metadata": {
    "collapsed": false
   }
  },
  {
   "cell_type": "code",
   "execution_count": 13,
   "outputs": [
    {
     "name": "stdout",
     "output_type": "stream",
     "text": [
      "6\n"
     ]
    }
   ],
   "source": [
    "def maxArea(A,le):\n",
    "    #code here\n",
    "    Pairs = []\n",
    "    for i in range(le):\n",
    "        for j in range(le):\n",
    "            width = (j - i)\n",
    "            pair = [A[i], A[j]]\n",
    "            height = min(pair)\n",
    "            Pairs.append(width*height)\n",
    "    return max(Pairs)\n",
    "\n",
    "for _ in range(0,int(input())):\n",
    "\n",
    "    n = int(input())\n",
    "    l = list(map(int,input().split()))\n",
    "\n",
    "    print(maxArea(l,n))"
   ],
   "metadata": {
    "collapsed": false,
    "pycharm": {
     "name": "#%%\n"
    }
   }
  },
  {
   "cell_type": "markdown",
   "source": [
    "## Given list of integers, Write a program to print the count of all possible unique combination of nubers whose sum is equal to K\n"
   ],
   "metadata": {
    "collapsed": false
   }
  },
  {
   "cell_type": "code",
   "execution_count": 19,
   "outputs": [
    {
     "name": "stdout",
     "output_type": "stream",
     "text": [
      "{1,  1,  6}\n",
      "{1,  2,  5}\n",
      "{1,  7}\n",
      "{2,  6}\n"
     ]
    }
   ],
   "source": [
    "# Python 3 implementation of the approach\n",
    "\n",
    "# Function to find all unique combination of\n",
    "# given elements such that their sum is K\n",
    "def unique_combination(l, sum, K, local, A):\n",
    "\t# If a unique combination is found\n",
    "\tif (sum == K):\n",
    "\t\tprint(\"{\", end=\"\")\n",
    "\t\tfor i in range(len(local)):\n",
    "\t\t\tif (i != 0):\n",
    "\t\t\t\tprint(\" \", end=\"\")\n",
    "\t\t\tprint(local[i], end=\"\")\n",
    "\t\t\tif (i != len(local) - 1):\n",
    "\t\t\t\tprint(\", \", end=\"\")\n",
    "\t\tprint(\"}\")\n",
    "\t\treturn\n",
    "\t# For all other combinations\n",
    "\tfor i in range(l, len(A), 1):\n",
    "\t\t# Check if the sum exceeds K\n",
    "\t\tif (sum + A[i] > K):\n",
    "\t\t\tcontinue\n",
    "\t\t# Check if it is repeated or not\n",
    "\t\tif (i > l and\n",
    "\t\t\t\tA[i] == A[i - 1]):\n",
    "\t\t\tcontinue\n",
    "\t\t# Take the element into the combination\n",
    "\t\tlocal.append(A[i])\n",
    "\t\t# Recursive call\n",
    "\t\tunique_combination(i + 1, sum + A[i],\n",
    "\t\t\t\t\t\tK, local, A)\n",
    "\t\t# Remove element from the combination\n",
    "\t\tlocal.remove(local[len(local) - 1])\n",
    "\n",
    "# Function to find all combination\n",
    "# of the given elements\n",
    "def Combination(A, K):\n",
    "\t# Sort the given elements\n",
    "\tA.sort(reverse=False)\n",
    "\tlocal = []\n",
    "\tunique_combination(0, 0, K, local, A)\n",
    "\n",
    "if __name__ == '__main__':\n",
    "\tA = [10, 1, 2, 7, 6, 1, 5]\n",
    "\tK = 8\n",
    "\tCombination(A, K)"
   ],
   "metadata": {
    "collapsed": false,
    "pycharm": {
     "name": "#%%\n"
    }
   }
  },
  {
   "cell_type": "markdown",
   "source": [
    "# Explaing about differnt types of exeption in python"
   ],
   "metadata": {
    "collapsed": false
   }
  },
  {
   "cell_type": "code",
   "execution_count": null,
   "outputs": [],
   "source": [],
   "metadata": {
    "collapsed": false,
    "pycharm": {
     "name": "#%%\n"
    }
   }
  },
  {
   "cell_type": "markdown",
   "source": [
    "# Complete Django tutorial (Part 1 to 7) from the official website  https://www.djangoproject.com/"
   ],
   "metadata": {
    "collapsed": false,
    "pycharm": {
     "name": "#%% md\n"
    }
   }
  },
  {
   "cell_type": "markdown",
   "source": [
    "# Write a Django code to send an email with attachment"
   ],
   "metadata": {
    "collapsed": false
   }
  },
  {
   "cell_type": "markdown",
   "source": [
    "# Program to demonstrate Overriding of base Class method in derived class"
   ],
   "metadata": {
    "collapsed": false
   }
  },
  {
   "cell_type": "code",
   "execution_count": 7,
   "outputs": [
    {
     "name": "stdout",
     "output_type": "stream",
     "text": [
      "Inside Parent\n",
      "Inside Child\n"
     ]
    }
   ],
   "source": [
    "\n",
    "# Python program to demonstrate\n",
    "# method overriding\n",
    "\n",
    "\n",
    "# Defining parent class\n",
    "class Parent():\n",
    "\n",
    "    # Constructor\n",
    "    def __init__(self):\n",
    "        self.value = \"Inside Parent\"\n",
    "\n",
    "    # Parent's show method\n",
    "    def show(self):\n",
    "        print(self.value)\n",
    "\n",
    "# Defining child class\n",
    "class Child(Parent):\n",
    "\n",
    "    # Constructor\n",
    "    def __init__(self):\n",
    "        self.value = \"Inside Child\"\n",
    "\n",
    "    # Child's show method\n",
    "    def show(self):\n",
    "        print(self.value)\n",
    "\n",
    "\n",
    "# Driver's code\n",
    "obj1 = Parent()\n",
    "obj2 = Child()\n",
    "\n",
    "obj1.show()\n",
    "obj2.show()"
   ],
   "metadata": {
    "collapsed": false,
    "pycharm": {
     "name": "#%%\n"
    }
   }
  },
  {
   "cell_type": "markdown",
   "source": [
    "## Write pythonic code to create a function named move_rectangle that takes an object of Reactangle and two numbers called dx and dy. It should move the rectangle by the given amount."
   ],
   "metadata": {
    "collapsed": false
   }
  },
  {
   "cell_type": "code",
   "execution_count": 18,
   "outputs": [
    {
     "name": "stdout",
     "output_type": "stream",
     "text": [
      "0 0\n",
      "5 10\n"
     ]
    }
   ],
   "source": [
    "class Rectangle:\n",
    "    def __init__(self, width, height):\n",
    "        self.width = width\n",
    "        self.height = height\n",
    "        self.corner = {'x': 0, 'y': 0}\n",
    "    def display(self):\n",
    "        print(self.corner['x'], self.corner['y'])\n",
    "\n",
    "    def move_rectangle(self, dx, dy):\n",
    "        self.corner['x'] += dx\n",
    "        self.corner['y'] += dy\n",
    "\n",
    "\n",
    "\n",
    "r1 = Rectangle(10, 20)\n",
    "r1.display()\n",
    "r1.move_rectangle(5, 10)\n",
    "r1.display()"
   ],
   "metadata": {
    "collapsed": false,
    "pycharm": {
     "name": "#%%\n"
    }
   }
  }
 ],
 "metadata": {
  "kernelspec": {
   "display_name": "Python 3",
   "language": "python",
   "name": "python3"
  },
  "language_info": {
   "codemirror_mode": {
    "name": "ipython",
    "version": 2
   },
   "file_extension": ".py",
   "mimetype": "text/x-python",
   "name": "python",
   "nbconvert_exporter": "python",
   "pygments_lexer": "ipython2",
   "version": "2.7.6"
  }
 },
 "nbformat": 4,
 "nbformat_minor": 0
}
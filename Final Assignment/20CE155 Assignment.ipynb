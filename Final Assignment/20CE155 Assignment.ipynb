{
 "cells": [
  {
   "cell_type": "markdown",
   "metadata": {
    "pycharm": {
     "name": "#%% md\n"
    }
   },
   "source": [
    "# Python Final Assignment  (20CE155)\n",
    "-----\n",
    "Link - https://github.com/settler-av/CE259-PIP"
   ]
  },
  {
   "cell_type": "markdown",
   "metadata": {
    "pycharm": {
     "name": "#%% md\n"
    }
   },
   "source": [
    "# 1. Descending frequency\n",
    "----"
   ]
  },
  {
   "cell_type": "code",
   "execution_count": 2,
   "metadata": {
    "pycharm": {
     "name": "#%%\n"
    }
   },
   "outputs": [
    {
     "name": "stdout",
     "output_type": "stream",
     "text": [
      "Enter the stringadnan\n",
      "a 2\n",
      "n 2\n",
      "d 1\n"
     ]
    }
   ],
   "source": [
    "test_str = input(\"Enter the string\")\n",
    "freq = dict()\n",
    "for i in test_str:\n",
    "    if i in freq:\n",
    "        freq[i] = freq[i] + 1\n",
    "    else:\n",
    "        freq[i] = 1\n",
    "for key in sorted(freq, key=freq.get, reverse=True):\n",
    "    print(\"{} {}\".format(str(key),str(freq[key])))"
   ]
  },
  {
   "cell_type": "markdown",
   "metadata": {
    "pycharm": {
     "name": "#%% md\n"
    }
   },
   "source": [
    "# 2. Find Min, Max, mean, SD, Variance\n",
    "-----"
   ]
  },
  {
   "cell_type": "code",
   "execution_count": 3,
   "metadata": {
    "pycharm": {
     "name": "#%%\n"
    }
   },
   "outputs": [
    {
     "name": "stdout",
     "output_type": "stream",
     "text": [
      "Min: 4\n",
      "Max: 80\n",
      "Mean: 37.125\n",
      "SD: 27.25086007817001\n",
      "Variance: 742.609375\n"
     ]
    }
   ],
   "source": [
    "import numpy as np\n",
    "string = \"10 50 80 70 49 23 11 4\"\n",
    "arr = string.split(\" \")\n",
    "# concert list int\n",
    "arr = np.array(arr, dtype=int)\n",
    "print(\"Min: {}\".format(np.min(arr)))\n",
    "print(\"Max: {}\".format(np.max(arr)))\n",
    "print(\"Mean: {}\".format(np.mean(arr)))\n",
    "print(\"SD: {}\".format(np.std(arr)))\n",
    "print(\"Variance: {}\".format(np.var(arr)))"
   ]
  },
  {
   "cell_type": "markdown",
   "source": [
    "## 3. You are given an integer array height of length n there are n vertical lines drawn such that the two endpoints of the line are (i,0) and (i, height[i]). Find two lines, which together with x-axis forms a container, such that the container contains the most water.\n",
    "Return the maximum amount of water that can be contained.\n",
    "-------"
   ],
   "metadata": {
    "collapsed": false,
    "pycharm": {
     "name": "#%% md\n"
    }
   }
  },
  {
   "cell_type": "code",
   "execution_count": null,
   "outputs": [],
   "source": [
    "def maxArea(A,le):\n",
    "    #code here\n",
    "    Pairs = []\n",
    "    for i in range(le):\n",
    "        for j in range(le):\n",
    "            width = (j - i)\n",
    "            pair = [A[i], A[j]]\n",
    "            height = min(pair)\n",
    "            Pairs.append(width*height)\n",
    "    return max(Pairs)\n",
    "\n",
    "for _ in range(0,int(input())):\n",
    "\n",
    "    n = int(input())\n",
    "    l = list(map(int,input().split()))\n",
    "\n",
    "    print(maxArea(l,n))"
   ],
   "metadata": {
    "collapsed": false,
    "pycharm": {
     "name": "#%%\n"
    }
   }
  },
  {
   "cell_type": "markdown",
   "source": [
    "## 4. Given list of integers, Write a program to print the count of all possible unique combination of nubers whose sum is equal to K\n",
    "\n",
    "-----\n"
   ],
   "metadata": {
    "collapsed": false,
    "pycharm": {
     "name": "#%% md\n"
    }
   }
  },
  {
   "cell_type": "code",
   "execution_count": null,
   "outputs": [],
   "source": [
    "# Python 3 implementation of the approach\n",
    "\n",
    "# Function to find all unique combination of\n",
    "# given elements such that their sum is K\n",
    "def unique_combination(l, sum, K, local, A):\n",
    "\t# If a unique combination is found\n",
    "\tif (sum == K):\n",
    "\t\tprint(\"{\", end=\"\")\n",
    "\t\tfor i in range(len(local)):\n",
    "\t\t\tif (i != 0):\n",
    "\t\t\t\tprint(\" \", end=\"\")\n",
    "\t\t\tprint(local[i], end=\"\")\n",
    "\t\t\tif (i != len(local) - 1):\n",
    "\t\t\t\tprint(\", \", end=\"\")\n",
    "\t\tprint(\"}\")\n",
    "\t\treturn\n",
    "\t# For all other combinations\n",
    "\tfor i in range(l, len(A), 1):\n",
    "\t\t# Check if the sum exceeds K\n",
    "\t\tif (sum + A[i] > K):\n",
    "\t\t\tcontinue\n",
    "\t\t# Check if it is repeated or not\n",
    "\t\tif (i > l and\n",
    "\t\t\t\tA[i] == A[i - 1]):\n",
    "\t\t\tcontinue\n",
    "\t\t# Take the element into the combination\n",
    "\t\tlocal.append(A[i])\n",
    "\t\t# Recursive call\n",
    "\t\tunique_combination(i + 1, sum + A[i],\n",
    "\t\t\t\t\t\tK, local, A)\n",
    "\t\t# Remove element from the combination\n",
    "\t\tlocal.remove(local[len(local) - 1])\n",
    "\n",
    "# Function to find all combination\n",
    "# of the given elements\n",
    "def Combination(A, K):\n",
    "\t# Sort the given elements\n",
    "\tA.sort(reverse=False)\n",
    "\tlocal = []\n",
    "\tunique_combination(0, 0, K, local, A)\n",
    "\n",
    "if __name__ == '__main__':\n",
    "\tA = [10, 1, 2, 7, 6, 1, 5]\n",
    "\tK = 8\n",
    "\tCombination(A, K)"
   ],
   "metadata": {
    "collapsed": false,
    "pycharm": {
     "name": "#%%\n"
    }
   }
  },
  {
   "cell_type": "markdown",
   "source": [
    "# 5. Explaing about differnt types of exeption in python"
   ],
   "metadata": {
    "collapsed": false,
    "pycharm": {
     "name": "#%% md\n"
    }
   }
  },
  {
   "cell_type": "markdown",
   "source": [
    "### Exception hierarchy\n",
    "```\n",
    "Exception\n",
    "├── ArithmeticError\n",
    "│   ├── FloatingPointError\n",
    "│   ├── OverflowError\n",
    "│   └── ZeroDivisionError\n",
    "├── AssertionError\n",
    "├── AttributeError\n",
    "├── BufferError\n",
    "├── EOFError\n",
    "├── ImportError\n",
    "│   └── ModuleNotFoundError\n",
    "├── LookupError\n",
    "│   ├── IndexError\n",
    "│   └── KeyError\n",
    "├── MemoryError\n",
    "├── NameError\n",
    "│   └── UnboundLocalError\n",
    "├── OSError\n",
    "│   ├── BlockingIOError\n",
    "│   ├── ChildProcessError\n",
    "│   ├── ConnectionError\n",
    "│   │   ├── BrokenPipeError\n",
    "│   │   ├── ConnectionAbortedError\n",
    "│   │   ├── ConnectionRefusedError\n",
    "│   │   └── ConnectionResetError\n",
    "│   ├── FileExistsError\n",
    "│   ├── FileNotFoundError\n",
    "│   ├── InterruptedError\n",
    "│   ├── IsADirectoryError\n",
    "│   ├── NotADirectoryError\n",
    "│   ├── PermissionError\n",
    "│   ├── ProcessLookupError\n",
    "│   └── TimeoutError\n",
    "├── ReferenceError\n",
    "├── RuntimeError\n",
    "│   ├── NotImplementedError\n",
    "│   └── RecursionError\n",
    "├── StopAsyncIteration\n",
    "├── StopIteration\n",
    "├── SyntaxError\n",
    "│   └── IndentationError\n",
    "│       └── TabError\n",
    "├── SystemError\n",
    "├── TypeError\n",
    "├── ValueError\n",
    "│   └── UnicodeError\n",
    "│       ├── UnicodeDecodeError\n",
    "│       ├── UnicodeEncodeError\n",
    "│       └── UnicodeTranslateError\n",
    "└── Warning\n",
    "    ├── BytesWarning\n",
    "    ├── DeprecationWarning\n",
    "    ├── FutureWarning\n",
    "    ├── ImportWarning\n",
    "    ├── PendingDeprecationWarning\n",
    "    ├── ResourceWarning\n",
    "    ├── RuntimeWarning\n",
    "    ├── SyntaxWarning\n",
    "    ├── UnicodeWarning\n",
    "    └── UserWarning\n",
    "\n",
    "```"
   ],
   "metadata": {
    "collapsed": false,
    "pycharm": {
     "name": "#%% md\n"
    }
   }
  },
  {
   "cell_type": "code",
   "execution_count": null,
   "outputs": [],
   "source": [
    "\"\"\"\n",
    "1. Exceptions are classes and they can be used just like all other classes.\n",
    "2. ValueError and TypeError are some of the most commonly used exceptions.\n",
    "3. The try and except keywords can be used for attempting to do something and then doing something else if we get an error. This is known as catching exceptions.\n",
    "4. It's possible to raise exceptions with the raise keyword. This is also known as throwing exceptions.\n",
    "5. Raise exceptions if they are meant to be displayed for programmers and use sys.stderr and sys.exit otherwise.\n",
    "\"\"\"\n",
    "while True:\n",
    "    try:\n",
    "        number = int(input(\"Enter a number: \"))\n",
    "        break\n",
    "    except ValueError:\n",
    "        print(\"That's not a valid number! Try again.\")\n",
    "\n",
    "print(\"Your number doubled is:\", number * 2)\n",
    "\n",
    "\n",
    "\n",
    "\n",
    "\n",
    "# These are here so you can change them to customize the program\n",
    "# easily.\n",
    "default_greeting = \"Hello World!\"\n",
    "filename = \"greeting.txt\"\n",
    "\n",
    "\n",
    "import sys\n",
    "\n",
    "def askyesno(question):\n",
    "    while True:\n",
    "        answer = input(question + ' (y or n) ')\n",
    "        if answer == 'Y' or answer == 'y':\n",
    "            return True\n",
    "        if answer == 'N' or answer == 'n':\n",
    "            return False\n",
    "\n",
    "def greet():\n",
    "    with open(filename, 'r') as f:\n",
    "        for line in f:\n",
    "            print(line.rstrip('\\n'))\n",
    "\n",
    "try:\n",
    "    greet()\n",
    "except OSError:\n",
    "    print(\"Cannot read '%s'!\" % filename, file=sys.stderr)\n",
    "    if askyesno(\"Would you like to create a default greeting file?\"):\n",
    "        with open(filename, 'w') as f:\n",
    "            print(default_greeting, file=f)\n",
    "        greet()"
   ],
   "metadata": {
    "collapsed": false,
    "pycharm": {
     "name": "#%%\n"
    }
   }
  },
  {
   "cell_type": "markdown",
   "source": [
    "# 6. Complete Django tutorial (Part 1 to 7) from the official website  \n",
    "https://www.djangoproject.com/\n",
    "\n",
    "-----"
   ],
   "metadata": {
    "collapsed": false,
    "pycharm": {
     "name": "#%% md\n"
    }
   }
  },
  {
   "cell_type": "markdown",
   "source": [
    "Link of the work: https://github.com/settler-av/CE259-PIP/tree/master/Final%20Assignment/\n",
    "-------------------"
   ],
   "metadata": {
    "collapsed": false,
    "pycharm": {
     "name": "#%% md\n"
    }
   }
  },
  {
   "cell_type": "markdown",
   "source": [
    "Manage.py"
   ],
   "metadata": {
    "collapsed": false,
    "pycharm": {
     "name": "#%% md\n"
    }
   }
  },
  {
   "cell_type": "code",
   "execution_count": null,
   "outputs": [],
   "source": [
    "#!/usr/bin/env python\n",
    "\"\"\"Django's command-line utility for administrative tasks.\"\"\"\n",
    "import os\n",
    "import sys\n",
    "\n",
    "\n",
    "def main():\n",
    "    \"\"\"Run administrative tasks.\"\"\"\n",
    "    os.environ.setdefault('DJANGO_SETTINGS_MODULE', 'djangoTut.settings')\n",
    "    try:\n",
    "        from django.core.management import execute_from_command_line\n",
    "    except ImportError as exc:\n",
    "        raise ImportError(\n",
    "            \"Couldn't import Django. Are you sure it's installed and \"\n",
    "            \"available on your PYTHONPATH environment variable? Did you \"\n",
    "            \"forget to activate a virtual environment?\"\n",
    "        ) from exc\n",
    "    execute_from_command_line(sys.argv)\n",
    "\n",
    "\n",
    "if __name__ == '__main__':\n",
    "    main()"
   ],
   "metadata": {
    "collapsed": false,
    "pycharm": {
     "name": "#%%\n"
    }
   }
  },
  {
   "cell_type": "markdown",
   "source": [
    "models.py"
   ],
   "metadata": {
    "collapsed": false,
    "pycharm": {
     "name": "#%% md\n"
    }
   }
  },
  {
   "cell_type": "code",
   "execution_count": null,
   "outputs": [],
   "source": [
    "from django.db import models\n",
    "import datetime\n",
    "\n",
    "from django.db import models\n",
    "from django.utils import timezone\n",
    "\n",
    "class Question(models.Model):\n",
    "    question_text = models.CharField(max_length=200)\n",
    "    pub_date = models.DateTimeField('date published')\n",
    "    def __str__(self):\n",
    "            return self.question_text\n",
    "\n",
    "\n",
    "class Choice(models.Model):\n",
    "    question = models.ForeignKey(Question, on_delete=models.CASCADE)\n",
    "    choice_text = models.CharField(max_length=200)\n",
    "    votes = models.IntegerField(default=0)\n",
    "\n",
    "    def __str__(self):\n",
    "        return self.question_text\n",
    "\n",
    "    def was_published_recently(self):\n",
    "        now = timezone.now()\n",
    "        return now - datetime.timedelta(days=1) <= self.pub_date <= now# 7. Write a Django code to send an email with attachment"
   ],
   "metadata": {
    "collapsed": false,
    "pycharm": {
     "name": "#%%\n"
    }
   }
  },
  {
   "cell_type": "markdown",
   "source": [
    "urls.py"
   ],
   "metadata": {
    "collapsed": false,
    "pycharm": {
     "name": "#%% md\n"
    }
   }
  },
  {
   "cell_type": "code",
   "execution_count": null,
   "outputs": [],
   "source": [
    "from django.urls import path\n",
    "\n",
    "from . import views\n",
    "\n",
    "app_name = 'polls'\n",
    "urlpatterns = [\n",
    "    path('', views.IndexView.as_view(), name='index'),\n",
    "    path('<int:pk>/', views.DetailView.as_view(), name='detail'),\n",
    "    path('<int:pk>/results/', views.ResultsView.as_view(), name='results'),\n",
    "    path('<int:question_id>/vote/', views.vote, name='vote'),\n",
    "]"
   ],
   "metadata": {
    "collapsed": false,
    "pycharm": {
     "name": "#%%\n"
    }
   }
  },
  {
   "cell_type": "markdown",
   "source": [
    "Views.py"
   ],
   "metadata": {
    "collapsed": false,
    "pycharm": {
     "name": "#%% md\n"
    }
   }
  },
  {
   "cell_type": "code",
   "execution_count": null,
   "outputs": [],
   "source": [
    "from django.shortcuts import render, get_object_or_404\n",
    "from django.http import HttpResponse, Http404, HttpResponseRedirect\n",
    "from django.urls import reverse\n",
    "from django.views import generic\n",
    "\n",
    "from .models import Choice,Question\n",
    "\n",
    "\n",
    "class IndexView(generic.ListView):\n",
    "    template_name = 'polls/index.html'\n",
    "    context_object_name = 'latest_question_list'\n",
    "\n",
    "    def get_queryset(self):\n",
    "        \"\"\"Return the last five published questions.\"\"\"\n",
    "        return Question.objects.order_by('-pub_date')[:5]\n",
    "\n",
    "\n",
    "class DetailView(generic.DetailView):\n",
    "    model = Question\n",
    "    template_name = 'polls/detail.html'\n",
    "\n",
    "\n",
    "class ResultsView(generic.DetailView):\n",
    "    model = Question\n",
    "    template_name = 'polls/results.html'\n",
    "\n",
    "\n",
    "def vote(request, question_id):\n",
    "    question = get_object_or_404(Question, pk=question_id)\n",
    "    try:\n",
    "        selected_choice = question.choice_set.get(pk=request.POST['choice'])\n",
    "    except (KeyError, Choice.DoesNotExist):\n",
    "        # Redisplay the question voting form.\n",
    "        return render(request, 'polls/detail.html', {\n",
    "            'question': question,\n",
    "            'error_message': \"You didn't select a choice.\",\n",
    "        })\n",
    "    else:\n",
    "        selected_choice.votes += 1\n",
    "        selected_choice.save()\n",
    "        # Always return an HttpResponseRedirect after successfully dealing\n",
    "        # with POST data. This prevents data from being posted twice if a\n",
    "        # user hits the Back button.\n",
    "        return HttpResponseRedirect(reverse('polls:results', args=(question.id,)))"
   ],
   "metadata": {
    "collapsed": false,
    "pycharm": {
     "name": "#%%\n"
    }
   }
  },
  {
   "cell_type": "markdown",
   "source": [
    "Link of the work: https://github.com/settler-av/CE259-PIP/tree/master/Final%20Assignment/Email-with-django"
   ],
   "metadata": {
    "collapsed": false,
    "pycharm": {
     "name": "#%% md\n"
    }
   }
  },
  {
   "cell_type": "markdown",
   "source": [
    "## 7. Email with Django\n",
    "\n",
    "Link: https://github.com/settler-av/CE259-PIP/tree/master/Final%20Assignment/Email-with-django"
   ],
   "metadata": {
    "collapsed": false,
    "pycharm": {
     "name": "#%% md\n"
    }
   }
  },
  {
   "cell_type": "code",
   "execution_count": null,
   "metadata": {
    "pycharm": {
     "name": "#%%\n"
    }
   },
   "outputs": [],
   "source": [
    "from django.http import HttpResponseRedirect\n",
    "from django.shortcuts import render\n",
    "from django.views import View\n",
    "\n",
    "from django.core.mail import EmailMessage\n",
    "\n",
    "from django.conf import settings\n",
    "from .forms import EmailForm\n",
    "\n",
    "class EmailAttachementView(View):\n",
    "    form_class = EmailForm\n",
    "    template_name = 'emailattachment.html'\n",
    "\n",
    "    def get(self, request, *args, **kwargs):\n",
    "        form = self.form_class()\n",
    "        return render(request, self.template_name, {'email_form': form})\n",
    "\n",
    "    def post(self, request, *args, **kwargs):\n",
    "        form = self.form_class(request.POST, request.FILES)\n",
    "\n",
    "        if form.is_valid():\n",
    "\n",
    "            subject = form.cleaned_data['subject']\n",
    "            message = form.cleaned_data['message']\n",
    "            email = form.cleaned_data['email']\n",
    "            files = request.FILES.getlist('attach')\n",
    "\n",
    "            try:\n",
    "                mail = EmailMessage(subject, message, settings.EMAIL_HOST_USER, [email])\n",
    "                for f in files:\n",
    "                    mail.attach(f.name, f.read(), f.content_type)\n",
    "                mail.send()\n",
    "                return render(request, self.template_name, {'email_form': form, 'error_message': 'Sent email to %s'%email})\n",
    "            except:\n",
    "                return render(request, self.template_name, {'email_form': form, 'error_message': 'Either the attachment is too big or corrupt'})\n",
    "\n",
    "        return render(request, self.template_name, {'email_form': form, 'error_message': 'Unable to send email. Please try again later'})\n",
    "\n",
    "    # Single File Attachment\n",
    "    # def post(self, request, *args, **kwargs):\n",
    "    #     form = self.form_class(request.POST, request.FILES)\n",
    "\n",
    "    #     if form.is_valid():\n",
    "\n",
    "    #         subject = form.cleaned_data['subject']\n",
    "    #         message = form.cleaned_data['message']\n",
    "    #         email = form.cleaned_data['email']\n",
    "    #         attach = request.FILES['attach']\n",
    "\n",
    "    #         try:\n",
    "    #             mail = EmailMessage(subject, message, settings.EMAIL_HOST_USER, [email])\n",
    "    #             mail.attach(attach.name, attach.read(), attach.content_type)\n",
    "    #             mail.send()\n",
    "    #             return render(request, self.template_name, {'email_form': form, 'error_message': 'Sent email to %s'%email})\n",
    "    #         except:\n",
    "    #             return render(request, self.template_name, {'email_form': form, 'error_message': 'Either the attachment is too big or corrupt'})\n",
    "\n",
    "    #     return render(request, self.template_name, {'email_form': form, 'error_message': 'Unable to send email. Please try again later'})"
   ]
  },
  {
   "cell_type": "code",
   "execution_count": null,
   "metadata": {
    "pycharm": {
     "name": "#%%\n"
    }
   },
   "outputs": [],
   "source": [
    "from django.urls import path\n",
    "from emailattachment.views import EmailAttachementView\n",
    "\n",
    "urlpatterns = [\n",
    "    path('', EmailAttachementView.as_view(), name='emailattachment')\n",
    "\n",
    "]"
   ]
  },
  {
   "cell_type": "code",
   "execution_count": null,
   "metadata": {
    "pycharm": {
     "name": "#%%\n"
    }
   },
   "outputs": [],
   "source": [
    "from django import forms\n",
    "\n",
    "class EmailForm(forms.Form):\n",
    "    email = forms.EmailField()\n",
    "    subject = forms.CharField(max_length=100)\n",
    "    attach = forms.FileField(widget=forms.ClearableFileInput(attrs={'multiple': True}))\n",
    "    message = forms.CharField(widget = forms.Textarea)"
   ]
  },
  {
   "cell_type": "markdown",
   "metadata": {
    "pycharm": {
     "name": "#%% md\n"
    }
   },
   "source": [
    "# 8. Program to demonstrate Overriding of base Class method in derived class\n",
    "\n",
    "-----"
   ]
  },
  {
   "cell_type": "code",
   "execution_count": 7,
   "metadata": {
    "pycharm": {
     "name": "#%%\n"
    }
   },
   "outputs": [
    {
     "name": "stdout",
     "output_type": "stream",
     "text": [
      "0 0\n",
      "5 10\n"
     ]
    }
   ],
   "source": [
    "class Rectangle:\n",
    "    def __init__(self, width, height):\n",
    "        self.width = width\n",
    "        self.height = height\n",
    "        self.corner = {'x': 0, 'y': 0}\n",
    "    def display(self):\n",
    "        print(self.corner['x'], self.corner['y'])\n",
    "\n",
    "    def move_rectangle(self, dx, dy):\n",
    "        self.corner['x'] += dx\n",
    "        self.corner['y'] += dy\n",
    "\n",
    "\n",
    "\n",
    "r1 = Rectangle(10, 20)\n",
    "r1.display()\n",
    "r1.move_rectangle(5, 10)\n",
    "r1.display()"
   ]
  }
 ],
 "metadata": {
  "kernelspec": {
   "display_name": "Python 3 (ipykernel)",
   "language": "python",
   "name": "python3"
  },
  "language_info": {
   "codemirror_mode": {
    "name": "ipython",
    "version": 3
   },
   "file_extension": ".py",
   "mimetype": "text/x-python",
   "name": "python",
   "nbconvert_exporter": "python",
   "pygments_lexer": "ipython3",
   "version": "3.9.7"
  }
 },
 "nbformat": 4,
 "nbformat_minor": 1
}
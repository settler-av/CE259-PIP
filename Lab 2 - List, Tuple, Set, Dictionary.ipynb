{
 "cells": [
  {
   "cell_type": "markdown",
   "metadata": {},
   "source": [
    "# PRACTICAL-2: Introduction to Dictionary, Tuple, Set\n",
    "By 20CE155 ADNAN VAHORA, CE-2(C2)\n",
    "\n",
    "Link: https://github.com/settler-av/CE259-PIP"
   ]
  },
  {
   "cell_type": "markdown",
   "metadata": {},
   "source": [
    "# __1. Dictionary__\n",
    "Dictionaries are used to store data values in key:value pairs.\n",
    "\n",
    "A dictionary is a collection which is ordered*, changeable and do not allow duplicates.\n",
    "\n",
    "_*(As of Python version 3.7, dictionaries are ordered. In Python 3.6 and earlier, dictionaries are unordered.)_"
   ]
  },
  {
   "cell_type": "markdown",
   "metadata": {},
   "source": [
    "### Problem 1:\n",
    "<p> Write a Python script to check whether a given key already exists in a dictionary."
   ]
  },
  {
   "cell_type": "code",
   "execution_count": 1,
   "metadata": {},
   "outputs": [
    {
     "name": "stdout",
     "output_type": "stream",
     "text": [
      "Enter a key: key2\n",
      "key exists\n"
     ]
    }
   ],
   "source": [
    "#create test dictionary\n",
    "test_dict = {'key1': 1, 'key2': 2, 'key3': 3}\n",
    "#check if key inserted by user exists or not\n",
    "print(\"key exists\") if test_dict.get(input('Enter a key: ')) else print(\"key does not exist\")"
   ]
  },
  {
   "cell_type": "markdown",
   "metadata": {},
   "source": [
    "### Problem 2:\n",
    "Write a Python script to merge two Python dictionaries."
   ]
  },
  {
   "cell_type": "code",
   "execution_count": 2,
   "metadata": {
    "pycharm": {
     "name": "#%%\n"
    }
   },
   "outputs": [
    {
     "name": "stdout",
     "output_type": "stream",
     "text": [
      "Merging two dictionaries:\n",
      "Dictionary 3:  {'a': 100, 'b': 200, 'x': 300, 'y': 200}\n",
      "Dictionary 4:  {'a': 100, 'b': 200, 'x': 300, 'y': 200}\n"
     ]
    }
   ],
   "source": [
    "dict1 = {'a': 100, 'b': 200}\n",
    "dict2 = {'x': 300, 'y': 200}\n",
    "#METHOD 1\n",
    "# ** implies that an argument is a dictionary.\n",
    "print(\"Merging two dictionaries:\")\n",
    "dict3 = {**dict1, **dict2}\n",
    "print(\"Dictionary 3: \", dict3)\n",
    "#METHOD 2\n",
    "# Using | in Python 3.9\n",
    "dict4 = dict1 | dict2\n",
    "print(\"Dictionary 4: \", dict4)"
   ]
  },
  {
   "cell_type": "markdown",
   "metadata": {},
   "source": [
    "### Problem 3:\n",
    "Write a Python program to sum all the items in a dictionary."
   ]
  },
  {
   "cell_type": "code",
   "execution_count": 3,
   "metadata": {
    "pycharm": {
     "name": "#%%\n"
    }
   },
   "outputs": [
    {
     "name": "stdout",
     "output_type": "stream",
     "text": [
      "600\n"
     ]
    }
   ],
   "source": [
    "dict = {'a': 100, 'b': 200, 'c': 300}\n",
    "#dict.values() returns a list of values\n",
    "#sum() returns the sum of all the values in the list\n",
    "print(sum(dict.values()))"
   ]
  },
  {
   "cell_type": "markdown",
   "metadata": {},
   "source": [
    "### Problem 4:\n",
    "Write a Python script to add a key to a dictionary.\n",
    "\n",
    "    Sample Dictionary : {0: 10, 1: 20}\n",
    "    Expected Result : {0: 10, 1: 20, 2: 30}"
   ]
  },
  {
   "cell_type": "code",
   "execution_count": 4,
   "metadata": {
    "pycharm": {
     "name": "#%%\n"
    }
   },
   "outputs": [
    {
     "name": "stdout",
     "output_type": "stream",
     "text": [
      "Enter a value: 30\n",
      "Enter a key: 2\n",
      "{0: 10, 1: 20, 2: 30}\n"
     ]
    }
   ],
   "source": [
    "sample = {0: 10, 1: 20}\n",
    "#adding a new key to the dictionary\n",
    "sample[int(input(\"Enter a key: \"))] = int(input(\"Enter a value: \"))\n",
    "print(sample)"
   ]
  },
  {
   "cell_type": "markdown",
   "metadata": {},
   "source": [
    "### Problem 5:\n",
    "\n",
    "Write a Python script to concatenate the following dictionaries to create a new one.\n",
    "\n",
    "    Sample Dictionary : dic1={1:10, 2:20} dic2={3:30, 4:40} dic3={5:50,6:60}\n",
    "    Expected Result : {1: 10, 2: 20, 3: 30, 4: 40, 5: 50, 6: 60}"
   ]
  },
  {
   "cell_type": "code",
   "execution_count": 5,
   "metadata": {
    "pycharm": {
     "name": "#%%\n"
    }
   },
   "outputs": [
    {
     "name": "stdout",
     "output_type": "stream",
     "text": [
      "{1: 10, 2: 20, 3: 30, 4: 40, 5: 50, 6: 60}\n"
     ]
    }
   ],
   "source": [
    "dic1={1:10, 2:20}\n",
    "dic2={3:30, 4:40}\n",
    "dic3={5:50,6:60}\n",
    "#concatenating the dictionaries (using feature of python 3.9)\n",
    "dict4 = dic1 | dic2 | dic3\n",
    "print(dict4)"
   ]
  },
  {
   "cell_type": "markdown",
   "metadata": {},
   "source": [
    "# 2. Tuple\n",
    "Tuples are used to store multiple items in a single variable.\n",
    "\n",
    "A tuple is a collection which is ordered and unchangeable.\n",
    "\n",
    "Tuples are written with round brackets."
   ]
  },
  {
   "cell_type": "markdown",
   "metadata": {},
   "source": [
    "### Problem 1:\n",
    "Write a Python program to create a tuple with different data types."
   ]
  },
  {
   "cell_type": "code",
   "execution_count": 6,
   "metadata": {
    "pycharm": {
     "name": "#%%\n"
    }
   },
   "outputs": [
    {
     "name": "stdout",
     "output_type": "stream",
     "text": [
      "type of element in int_tuples:  <class 'int'>\n",
      "type of element in float_tuples:  <class 'float'>\n",
      "type of element in string_tuples:  <class 'str'>\n"
     ]
    }
   ],
   "source": [
    "int_tuples = (1, 2, 3, 4, 5)\n",
    "print(\"type of element in int_tuples: \", type(int_tuples[1]))\n",
    "float_tuples = (1.1, 2.2, 3.3, 4.4, 5.5)\n",
    "print(\"type of element in float_tuples: \", type(float_tuples[1]))\n",
    "string_tuples = (\"a\", \"b\", \"c\", \"d\", \"e\")\n",
    "print(\"type of element in string_tuples: \", type(string_tuples[1]))"
   ]
  },
  {
   "cell_type": "markdown",
   "metadata": {},
   "source": [
    "### Problem 2:\n",
    "Write a Python program to create a tuple with numbers and print one item."
   ]
  },
  {
   "cell_type": "code",
   "execution_count": 7,
   "metadata": {
    "pycharm": {
     "name": "#%%\n"
    }
   },
   "outputs": [
    {
     "name": "stdout",
     "output_type": "stream",
     "text": [
      "2\n"
     ]
    }
   ],
   "source": [
    "from random import randint\n",
    "\n",
    "my_tuple = (1,2,3,4,5,6,7,8,9,10)\n",
    "#get a random number from the tuple\n",
    "print(my_tuple[randint(0, len(my_tuple)-1)])\n",
    "#output is subjected to change every time the program is executed"
   ]
  },
  {
   "cell_type": "markdown",
   "metadata": {},
   "source": [
    "### Problem 3:\n",
    "Write a Python program to add an item in a tuple."
   ]
  },
  {
   "cell_type": "code",
   "execution_count": 8,
   "metadata": {
    "pycharm": {
     "name": "#%%\n"
    }
   },
   "outputs": [
    {
     "name": "stdout",
     "output_type": "stream",
     "text": [
      "Original tuple: (1, 2, 3, 4, 5)\n",
      "Enter a number to add in tuple: 100\n",
      "after updating: (1, 2, 3, 4, 5, 100)\n"
     ]
    }
   ],
   "source": [
    "first_tuple = (1, 2, 3, 4, 5)\n",
    "print(\"Original tuple: \" + str(first_tuple))\n",
    "#adding item in tuple: since tuple are immutable, we have to create a new tuple that contains desired item and first tuple\n",
    "second_tuple = first_tuple + (int(input(\"Enter a number to add in tuple: \")),)\n",
    "print(\"after updating: \" + str(second_tuple))"
   ]
  },
  {
   "cell_type": "markdown",
   "metadata": {},
   "source": [
    "### Problem 4:\n",
    "Write a Python program to convert a tuple to a string."
   ]
  },
  {
   "cell_type": "code",
   "execution_count": 9,
   "metadata": {
    "pycharm": {
     "name": "#%%\n"
    }
   },
   "outputs": [
    {
     "name": "stdout",
     "output_type": "stream",
     "text": [
      "Type of string tuple is of type <class 'str'>\n",
      "Tuple: (1, 4, 27, 256, 3125, 46656, 823543, 16777216, 387420489, 10000000000)\n"
     ]
    }
   ],
   "source": [
    "#create random tuple\n",
    "my_tuple = tuple(i**i for i in range(1,11))\n",
    "#convert tuple to string\n",
    "string_tuple = str(my_tuple)\n",
    "print(\"Type of string tuple is of type \" + str(type(string_tuple)))\n",
    "print(\"Tuple: \" + str(my_tuple))"
   ]
  },
  {
   "cell_type": "markdown",
   "metadata": {},
   "source": [
    "### Problem 5:\n",
    "Write a Python program to find the length of a tuple."
   ]
  },
  {
   "cell_type": "code",
   "execution_count": 10,
   "metadata": {
    "pycharm": {
     "name": "#%%\n"
    }
   },
   "outputs": [
    {
     "name": "stdout",
     "output_type": "stream",
     "text": [
      "Tuple: (29, 13, 5, 1, 1, 1, 6, 1, 3, 39, 1, 1, 1, 1, 1, 1, 1, 1, 2, 64, 1, 1, 1, 1, 1, 11, 1, 1, 1, 7, 1, 1, 8, 266, 3, 1, 2, 29, 6, 1, 1, 1, 1, 1, 1, 3, 1, 1, 1, 1)\n",
      "Length of tuple: 50\n"
     ]
    }
   ],
   "source": [
    "#create tuple with random numbers\n",
    "rand_tuple = tuple(i//(i - randint(0, i-1)) for i in range(500,550))\n",
    "print(\"Tuple: \" + str(rand_tuple))\n",
    "print(\"Length of tuple: \" + str(len(rand_tuple)))"
   ]
  },
  {
   "cell_type": "markdown",
   "metadata": {},
   "source": [
    "# 3. Set\n",
    "Sets are used to store data values in unordered collection.\n",
    "A set is a collection which is **unordered** and **unindexed**. In Python sets are written with curly brackets."
   ]
  },
  {
   "cell_type": "markdown",
   "metadata": {},
   "source": [
    "### Problem 1:\n",
    "Write a Python program to add member(s) in a set and clear a set"
   ]
  },
  {
   "cell_type": "code",
   "execution_count": 11,
   "metadata": {
    "pycharm": {
     "name": "#%%\n"
    }
   },
   "outputs": [
    {
     "name": "stdout",
     "output_type": "stream",
     "text": [
      "The original set: {1, 2, 3, 4, 5}\n",
      "after adding 6, 7, 3 in set1: {1, 2, 3, 4, 5, 6, 7}\n",
      "after removing 2 from set1: {1, 3, 4, 5, 6, 7}\n",
      "After clearing the set  set()\n"
     ]
    }
   ],
   "source": [
    "set1 = {1,2,3,4,5}\n",
    "print(\"The original set: \" + str(set1))\n",
    "#use add function to add a new member in the set\n",
    "set1.add(6)\n",
    "set1.add(7)\n",
    "set1.add(3) #set will not allow duplicates\n",
    "print(\"after adding 6, 7, 3 in set1:\",set1)\n",
    "#use remove function to remove a member in the set\n",
    "set1.remove(2)\n",
    "print(\"after removing 2 from set1:\",set1)\n",
    "#use clear function to clear the set\n",
    "set1.clear()\n",
    "print(\"After clearing the set \",set1)"
   ]
  },
  {
   "cell_type": "markdown",
   "metadata": {},
   "source": [
    "### Problem 2:\n",
    "Write a Python program to remove an item from a set if it is present in the set."
   ]
  },
  {
   "cell_type": "code",
   "execution_count": 20,
   "metadata": {
    "pycharm": {
     "name": "#%%\n"
    }
   },
   "outputs": [
    {
     "name": "stdout",
     "output_type": "stream",
     "text": [
      "Enter any number between 1 to 10: 2\n",
      "{0, 1, 2, 3, 4, 5, 6, 7, 8}\n",
      "The number is removed from the set\n",
      "Updated set is: {0, 1, 3, 4, 5, 6, 7, 8}\n"
     ]
    }
   ],
   "source": [
    "from random import randint\n",
    "set2 = set(i%randint(1,11) for i in range(100,150))\n",
    "# print(set2)\n",
    "my_number = int(input(\"Enter any number between 1 to 10: \"))\n",
    "my_number %= 11\n",
    "print(set2)\n",
    "if my_number in set2:\n",
    "    set2.remove(my_number)\n",
    "    print(\"The number is removed from the set\")\n",
    "    print(\"Updated set is:\",set2)\n",
    "else:\n",
    "    print(\"The number is not in the set\")\n",
    "    print(\"The set is: \",set2)"
   ]
  },
  {
   "cell_type": "markdown",
   "metadata": {},
   "source": [
    "### Problem 3:\n",
    "Write a Python program to create an intersection, Union, difference of sets."
   ]
  },
  {
   "cell_type": "code",
   "execution_count": 13,
   "metadata": {
    "pycharm": {
     "name": "#%%\n"
    }
   },
   "outputs": [
    {
     "name": "stdout",
     "output_type": "stream",
     "text": [
      "Intersection of A and B:  {8, 9, 5}\n",
      "Union of A and B:  {1, 3, 4, 5, 6, 7, 8, 9, 10}\n",
      "Difference of A and B:  {10, 4, 7}\n",
      "Difference of B and A:  {1, 3, 6}\n"
     ]
    }
   ],
   "source": [
    "#create a random set\n",
    "A = {4,5,7,8,9,10}\n",
    "B = {1,3,5,6,8,9}\n",
    "#intersenction of A and B\n",
    "print(\"Intersection of A and B: \",A.intersection(B))\n",
    "#union of A and B\n",
    "print(\"Union of A and B: \",A.union(B))\n",
    "#difference of A and B\n",
    "print(\"Difference of A and B: \",A.difference(B))\n",
    "#difference of B and A\n",
    "print(\"Difference of B and A: \",B.difference(A))"
   ]
  },
  {
   "cell_type": "markdown",
   "metadata": {},
   "source": [
    "### Problem 4:\n",
    "Write a Python program to find maximum and the minimum value in a set."
   ]
  },
  {
   "cell_type": "code",
   "execution_count": 14,
   "metadata": {
    "pycharm": {
     "name": "#%%\n"
    }
   },
   "outputs": [
    {
     "name": "stdout",
     "output_type": "stream",
     "text": [
      "The maximum value in the set is:  11\n",
      "The minimum value in the set is:  1\n"
     ]
    }
   ],
   "source": [
    "set4 = {1,2,5,4,3,10,11}\n",
    "print(\"The maximum value in the set is: \",max(set4))\n",
    "print(\"The minimum value in the set is: \",min(set4))"
   ]
  },
  {
   "cell_type": "markdown",
   "metadata": {},
   "source": [
    "### Problem 5 (TODO):\n",
    "Write a Python program to find the most common elements and their counts from list, tuple, dictionary."
   ]
  },
  {
   "cell_type": "code",
   "execution_count": 23,
   "metadata": {
    "pycharm": {
     "name": "#%%\n"
    }
   },
   "outputs": [
    {
     "name": "stdout",
     "output_type": "stream",
     "text": [
      "The list is:  [1, 1, 1, 1, 5, 18, 5, 6, 1, 1, 18, 21, 32, 23, 7, 7, 0, 27, 34, 19, 0, 29, 2, 3, 0, 3, 3, 19, 48, 0, 0, 41, 3, 7, 9, 9, 0, 0, 23, 25, 4, 15, 34, 43, 20, 33, 0, 27, 4, 1, 5, 27, 2, 41, 10, 0, 44, 45, 18, 19, 24, 5, 12, 13, 0, 21, 10, 5, 8, 13, 2, 18, 8, 7, 14, 8, 1, 6, 7, 13, 9, 2, 4, 3, 34, 29, 6, 1, 10, 9, 12, 2, 28, 5, 9, 3, 21, 5, 34, 1]\n",
      "The most common elements in the list are:  0\n",
      "\n",
      "The tuple is:  (0, 35, 3, 23, 12, 1, 22, 7, 3, 1, 30, 3, 0, 1, 6, 8, 0, 2, 6, 11, 0, 7, 22, 23, 44, 37, 0, 13, 8, 9, 5, 31, 0, 13, 26, 9, 0, 14, 4, 13, 14, 1, 6, 20, 4, 45, 34, 18, 0, 29, 16, 11, 40, 3, 20, 5, 11, 21, 0, 14, 4, 1, 37, 7, 6, 15, 8, 2, 32, 4, 16, 21, 4, 41, 20, 4, 10, 10, 14, 45, 0, 9, 2, 2, 28, 5, 22, 33, 8, 10, 37, 3, 2, 13, 5, 3, 8, 5, 20, 26)\n",
      "The most common elements in the tuple are:  0\n",
      "\n",
      "The dictionary is:  {1000: 0, 1001: 11, 1002: 1, 1003: 14, 1004: 20, 1005: 15, 1006: 18, 1007: 17, 1008: 19, 1009: 20, 1010: 2, 1011: 11, 1012: 12, 1013: 25, 1014: 6, 1015: 10, 1016: 16, 1017: 14, 1018: 26, 1019: 11, 1020: 0, 1021: 6, 1022: 8, 1023: 23, 1024: 34, 1025: 8, 1026: 6, 1027: 7, 1028: 16, 1029: 39, 1030: 4, 1031: 11, 1032: 20, 1033: 1, 1034: 0, 1035: 3, 1036: 22, 1037: 2, 1038: 1, 1039: 5, 1040: 17, 1041: 21, 1042: 13, 1043: 20, 1044: 12, 1045: 1, 1046: 21, 1047: 27, 1048: 5, 1049: 17, 1050: 0, 1051: 15, 1052: 26, 1053: 9, 1054: 19, 1055: 15, 1056: 0, 1057: 23, 1058: 8, 1059: 3, 1060: 1, 1061: 1, 1062: 0, 1063: 3, 1064: 10, 1065: 1, 1066: 12, 1067: 5, 1068: 34, 1069: 13, 1070: 6, 1071: 31, 1072: 32, 1073: 6, 1074: 1, 1075: 25, 1076: 2, 1077: 6, 1078: 6, 1079: 21, 1080: 9, 1081: 1, 1082: 11, 1083: 5, 1084: 20, 1085: 5, 1086: 6, 1087: 14, 1088: 15, 1089: 4, 1090: 40, 1091: 25, 1092: 4, 1093: 13, 1094: 6, 1095: 3, 1096: 11, 1097: 14, 1098: 0, 1099: 3}\n",
      "The most common elements in the dictionary are: \n"
     ]
    }
   ],
   "source": [
    "my_list = list(i%randint(1,50) for i in range(1000,1100) )\n",
    "print(\"The list is: \",my_list)\n",
    "#find the most common elements in the list with frequency\n",
    "print(\"The most common elements in the list are: \",max(set(my_list), key=my_list.count))\n",
    "#find the most common elements in the tuple with frequency\n",
    "my_tuple = tuple(i%randint(1,50) for i in range(1000,1100) )\n",
    "print(\"\\nThe tuple is: \",my_tuple)\n",
    "print(\"The most common elements in the tuple are: \",max(set(my_tuple), key=my_tuple.count))\n",
    "#find the most common elements in the dictionary with frequency\n",
    "my_dict =\n",
    "print(\"\\nThe dictionary is: \",my_dict)\n",
    "print(\"The most common elements in the dictionary are: \")"
   ]
  }
 ],
 "metadata": {
  "kernelspec": {
   "display_name": "Python 3 (ipykernel)",
   "language": "python",
   "name": "python3"
  },
  "language_info": {
   "codemirror_mode": {
    "name": "ipython",
    "version": 3
   },
   "file_extension": ".py",
   "mimetype": "text/x-python",
   "name": "python",
   "nbconvert_exporter": "python",
   "pygments_lexer": "ipython3",
   "version": "3.9.7"
  }
 },
 "nbformat": 4,
 "nbformat_minor": 1
}